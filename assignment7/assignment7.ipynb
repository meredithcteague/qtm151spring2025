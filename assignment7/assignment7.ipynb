{
 "cells": [
  {
   "cell_type": "markdown",
   "metadata": {},
   "source": [
    "# Assignment 7"
   ]
  },
  {
   "cell_type": "markdown",
   "metadata": {},
   "source": [
    "## Submit as an HTML file"
   ]
  },
  {
   "cell_type": "markdown",
   "metadata": {},
   "source": [
    "### Print your name below"
   ]
  },
  {
   "cell_type": "code",
   "execution_count": 1,
   "metadata": {},
   "outputs": [
    {
     "name": "stdout",
     "output_type": "stream",
     "text": [
      "Meredith Teague\n"
     ]
    }
   ],
   "source": [
    "print(\"Meredith Teague\")"
   ]
  },
  {
   "cell_type": "markdown",
   "metadata": {},
   "source": [
    "### Import the \"pandas\" \"numpy\" and \"statsmodels.formula.api\" libraries"
   ]
  },
  {
   "cell_type": "code",
   "execution_count": 2,
   "metadata": {},
   "outputs": [],
   "source": [
    "# Write your answer here:\n",
    "import pandas as pd \n",
    "import numpy as np \n",
    "import statsmodels.formula.api as smf\n",
    "\n",
    "\n"
   ]
  },
  {
   "cell_type": "markdown",
   "metadata": {},
   "source": [
    "#### In the code chunk below read the CSV file named `results.csv` in the `data` <br> folder and print the first 5 rows of the dataset. Browse the dataset."
   ]
  },
  {
   "cell_type": "code",
   "execution_count": 5,
   "metadata": {},
   "outputs": [
    {
     "name": "stdout",
     "output_type": "stream",
     "text": [
      "<bound method NDFrame.head of        resultId  raceId  driverId  constructorId number  grid position  \\\n",
      "0             1      18         1              1     22     1        1   \n",
      "1             2      18         2              2      3     5        2   \n",
      "2             3      18         3              3      7     7        3   \n",
      "3             4      18         4              4      5    11        4   \n",
      "4             5      18         5              1     23     3        5   \n",
      "...         ...     ...       ...            ...    ...   ...      ...   \n",
      "25835     25841    1096       854            210     47    12       16   \n",
      "25836     25842    1096       825            210     20    16       17   \n",
      "25837     25843    1096         1            131     44     5       18   \n",
      "25838     25844    1096       849              3      6    20       19   \n",
      "25839     25845    1096         4            214     14    10       \\N   \n",
      "\n",
      "      positionText  positionOrder  points  laps         time milliseconds  \\\n",
      "0                1              1    10.0    58  1:34:50.616      5690616   \n",
      "1                2              2     8.0    58       +5.478      5696094   \n",
      "2                3              3     6.0    58       +8.163      5698779   \n",
      "3                4              4     5.0    58      +17.181      5707797   \n",
      "4                5              5     4.0    58      +18.014      5708630   \n",
      "...            ...            ...     ...   ...          ...          ...   \n",
      "25835           16             16     0.0    57           \\N           \\N   \n",
      "25836           17             17     0.0    57           \\N           \\N   \n",
      "25837           18             18     0.0    55           \\N           \\N   \n",
      "25838           19             19     0.0    55           \\N           \\N   \n",
      "25839            R             20     0.0    27           \\N           \\N   \n",
      "\n",
      "      fastestLap rank fastestLapTime fastestLapSpeed  statusId  \n",
      "0             39    2       1:27.452         218.300         1  \n",
      "1             41    3       1:27.739         217.586         1  \n",
      "2             41    5       1:28.090         216.719         1  \n",
      "3             58    7       1:28.603         215.464         1  \n",
      "4             43    1       1:27.418         218.385         1  \n",
      "...          ...  ...            ...             ...       ...  \n",
      "25835         39   12       1:29.833         211.632        11  \n",
      "25836         40   20       1:31.158         208.556        11  \n",
      "25837         42   11       1:29.788         211.738         9  \n",
      "25838         45   14       1:30.309         210.517       130  \n",
      "25839         24   17       1:30.579         209.889        47  \n",
      "\n",
      "[25840 rows x 18 columns]>\n"
     ]
    }
   ],
   "source": [
    "data = pd.read_csv(\"data/results.csv\")\n",
    "print(data.head)"
   ]
  },
  {
   "cell_type": "markdown",
   "metadata": {},
   "source": [
    "### (a)  Check Column Types and Data Cleaning\n",
    "\n",
    "- Use the function .dtypes to get the column types\n",
    "- Identify which columns have data types that might need conversion\n",
    "- The 'milliseconds' column contains string values that should be numeric. Create a new column called 'race_time_ms' that:\n",
    "    - Converts the column to a numeric data type\n",
    "    - Replaces any non-numeric values with NaN"
   ]
  },
  {
   "cell_type": "code",
   "execution_count": 18,
   "metadata": {},
   "outputs": [
    {
     "name": "stdout",
     "output_type": "stream",
     "text": [
      "resultId             int64\n",
      "raceId               int64\n",
      "driverId             int64\n",
      "constructorId        int64\n",
      "number              object\n",
      "grid                 int64\n",
      "position            object\n",
      "positionText        object\n",
      "positionOrder        int64\n",
      "points             float64\n",
      "laps                 int64\n",
      "time                object\n",
      "milliseconds        object\n",
      "fastestLap          object\n",
      "rank                object\n",
      "fastestLapTime      object\n",
      "fastestLapSpeed     object\n",
      "statusId             int64\n",
      "race_time_ms       float64\n",
      "dtype: object\n"
     ]
    },
    {
     "data": {
      "text/plain": [
       "0        5690616\n",
       "1        5696094\n",
       "2        5698779\n",
       "3        5707797\n",
       "4        5708630\n",
       "          ...   \n",
       "25835        NaN\n",
       "25836        NaN\n",
       "25837        NaN\n",
       "25838        NaN\n",
       "25839        NaN\n",
       "Name: milliseconds, Length: 25840, dtype: object"
      ]
     },
     "metadata": {},
     "output_type": "display_data"
    }
   ],
   "source": [
    "# Write your answer here\n",
    "print(data.dtypes)  \n",
    "subset = data.query(\"  milliseconds.str.isnumeric() == False\"   )\n",
    "#display(subset[\"milliseconds\"])\n",
    "list_old = ['\\\\N']\n",
    "list_new = [np.nan]\n",
    "data[\"milliseconds\"] = data[\"milliseconds\"].replace(list_old, list_new)\n",
    "\n",
    "display(data[\"milliseconds\"])\n",
    "\n",
    "\n"
   ]
  },
  {
   "cell_type": "markdown",
   "metadata": {},
   "source": [
    "### (b) Create Categorical Variables\n",
    "\n",
    "- Create a new column called 'finish_category' that categorizes the race finish positions as follows:\n",
    "    - Positions 1-3: 'Podium'\n",
    "    - Positions 4-10: 'Points'\n",
    "    - Positions 11-20: 'Midfield'\n",
    "    - Positions >20: 'Backmarker'\n",
    "\n",
    "Hint: Use the pd.cut() function"
   ]
  },
  {
   "cell_type": "code",
   "execution_count": 20,
   "metadata": {},
   "outputs": [
    {
     "data": {
      "text/plain": [
       "0          Podium\n",
       "1          Podium\n",
       "2          Podium\n",
       "3          Points\n",
       "4          Points\n",
       "           ...   \n",
       "25835    Midfield\n",
       "25836    Midfield\n",
       "25837    Midfield\n",
       "25838    Midfield\n",
       "25839    Midfield\n",
       "Name: finish_category, Length: 25840, dtype: category\n",
       "Categories (4, object): ['Podium' < 'Points' < 'Midfield' < 'Backmarker']"
      ]
     },
     "metadata": {},
     "output_type": "display_data"
    }
   ],
   "source": [
    "# Write your answer here\n",
    "\n",
    "bins = [0, 3, 10, 20, float('inf')]  \n",
    "labels = ['Podium', 'Points', 'Midfield', 'Backmarker']\n",
    "\n",
    "data['finish_category'] = pd.cut(data['positionOrder'], bins=bins, labels=labels)\n",
    "display(data['finish_category'])\n",
    "\n",
    "\n"
   ]
  },
  {
   "cell_type": "markdown",
   "metadata": {},
   "source": [
    "### (c) Calculate Race Duration\n",
    "- For rows where 'milliseconds' is available, create a new column <br>\n",
    "'race_duration_minutes' that converts milliseconds to minutes by dividing <br>\n",
    "by (1000*60).\n",
    "- Display the average race duration by 'constructorId' for the top 5 <br>\n",
    "constructors with the shortest average race times"
   ]
  },
  {
   "cell_type": "code",
   "execution_count": 24,
   "metadata": {},
   "outputs": [
    {
     "name": "stdout",
     "output_type": "stream",
     "text": [
      "constructorId\n",
      "35    76.710777\n",
      "29    77.604125\n",
      "41    87.046767\n",
      "16    89.428828\n",
      "53    89.658852\n",
      "Name: race_duration_minutes, dtype: float64\n"
     ]
    }
   ],
   "source": [
    "# Write your answer here\n",
    "data['race_duration_minutes'] = data['milliseconds'].astype(float) / (1000 * 60)\n",
    "\n",
    "\n",
    "avgraceduration = data.groupby('constructorId')['race_duration_minutes'].mean()\n",
    "\n",
    "top5shortest = avgraceduration.nsmallest(5)\n",
    "print(top5shortest)\n",
    "\n"
   ]
  },
  {
   "cell_type": "markdown",
   "metadata": {},
   "source": [
    "### (d) Driver Performance Analysis\n",
    "\n",
    "- Calculate the following statistics for each driver, grouped by 'driverId':\n",
    "    - Average finishing position\n",
    "    - Total points\n",
    "    - Number of races completed\n",
    "    - Best finishing position\n",
    "\n",
    "- Sort the results by total points in descending order\n",
    "- Display the top 10 drivers based on total points"
   ]
  },
  {
   "cell_type": "code",
   "execution_count": null,
   "metadata": {},
   "outputs": [
    {
     "name": "stdout",
     "output_type": "stream",
     "text": [
      "          avg_finish_position  total_points  races_completed  best_finish\n",
      "driverId                                                                 \n",
      "1                    4.787097        4396.5              310            1\n",
      "20                   7.093333        3098.0              300            1\n",
      "4                    8.494413        2061.0              358            1\n",
      "830                  6.533742        1983.5              163            1\n",
      "8                    8.491477        1873.0              352            1\n",
      "822                  7.601990        1778.0              201            1\n",
      "3                    8.252427        1594.5              206            1\n",
      "30                   6.879870        1566.0              308            1\n",
      "817                  9.883621        1307.0              232            1\n",
      "18                   9.695793        1235.0              309            1\n"
     ]
    }
   ],
   "source": [
    "# Write your answer here\n",
    "driverStats = data.groupby('driverId').agg(\n",
    "    avgfinishposition=('positionOrder', 'mean'),\n",
    "    totalpoints=('points', 'sum'),\n",
    "    racescompleted=('raceId', 'count'),\n",
    "    bestfinish=('positionOrder', 'min')\n",
    ")\n",
    "\n",
    "driverstatssorted = driverStats.sort_values(by='total_points', ascending=False)\n",
    "\n",
    "print(driverstatssorted.head(10))\n"
   ]
  },
  {
   "cell_type": "markdown",
   "metadata": {},
   "source": [
    "### (e) Linear Regression\n",
    "Create a linear regression model that predicts 'points' based on 'grid' (starting position) and 'laps' completed <br>\n",
    "Use the following steps:\n",
    "\n",
    "- Clean the data to remove any non-numeric values and missing values\n",
    "- Create the regression formula using smf.ols \n",
    "- Display the summary of the regression model using model.summary()\n",
    "\n",
    "What is the predicted points for a driver starting in position 3 and completing 55 laps?\n",
    "\n",
    "Hint: Use ```.dropna()''' to remove missing values from the points, grid, and laps <br>\n",
    "variables."
   ]
  },
  {
   "cell_type": "code",
   "execution_count": 27,
   "metadata": {},
   "outputs": [
    {
     "name": "stdout",
     "output_type": "stream",
     "text": [
      "                            OLS Regression Results                            \n",
      "==============================================================================\n",
      "Dep. Variable:                 points   R-squared:                       0.215\n",
      "Model:                            OLS   Adj. R-squared:                  0.215\n",
      "Method:                 Least Squares   F-statistic:                     3530.\n",
      "Date:                Sun, 23 Mar 2025   Prob (F-statistic):               0.00\n",
      "Time:                        09:48:33   Log-Likelihood:                -70440.\n",
      "No. Observations:               25840   AIC:                         1.409e+05\n",
      "Df Residuals:                   25837   BIC:                         1.409e+05\n",
      "Df Model:                           2                                         \n",
      "Covariance Type:            nonrobust                                         \n",
      "==============================================================================\n",
      "                 coef    std err          t      P>|t|      [0.025      0.975]\n",
      "------------------------------------------------------------------------------\n",
      "Intercept      2.5841      0.054     48.267      0.000       2.479       2.689\n",
      "grid          -0.2248      0.003    -70.621      0.000      -0.231      -0.219\n",
      "laps           0.0393      0.001     50.779      0.000       0.038       0.041\n",
      "==============================================================================\n",
      "Omnibus:                    15818.159   Durbin-Watson:                   0.715\n",
      "Prob(Omnibus):                  0.000   Jarque-Bera (JB):           183648.109\n",
      "Skew:                           2.804   Prob(JB):                         0.00\n",
      "Kurtosis:                      14.795   Cond. No.                         130.\n",
      "==============================================================================\n",
      "\n",
      "Notes:\n",
      "[1] Standard Errors assume that the covariance matrix of the errors is correctly specified.\n",
      "0    4.070063\n",
      "dtype: float64\n"
     ]
    }
   ],
   "source": [
    "# Write your answer here\n",
    "data_clean = data[['points', 'grid', 'laps']].dropna()\n",
    "\n",
    "model = smf.ols('points ~ grid + laps', data=data_clean).fit()\n",
    "\n",
    "print(model.summary())\n",
    "\n",
    "predicted_points = model.predict(pd.DataFrame({'grid': [3], 'laps': [55]}))\n",
    "print(predicted_points)\n",
    "\n"
   ]
  }
 ],
 "metadata": {
  "kernelspec": {
   "display_name": "base",
   "language": "python",
   "name": "python3"
  },
  "language_info": {
   "codemirror_mode": {
    "name": "ipython",
    "version": 3
   },
   "file_extension": ".py",
   "mimetype": "text/x-python",
   "name": "python",
   "nbconvert_exporter": "python",
   "pygments_lexer": "ipython3",
   "version": "3.12.7"
  }
 },
 "nbformat": 4,
 "nbformat_minor": 2
}
